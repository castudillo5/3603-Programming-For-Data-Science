{
  "cells": [
    {
      "cell_type": "markdown",
      "id": "4fc4e076",
      "metadata": {
        "id": "4fc4e076"
      },
      "source": [
        "# 📘 02 - Python Tuples\n",
        "\n",
        "Learn what tuples are and how to use them."
      ]
    },
    {
      "cell_type": "markdown",
      "id": "0ec947dd",
      "metadata": {
        "id": "0ec947dd"
      },
      "source": [
        "## ✅ Learning Goals\n",
        "- Create and access tuples\n",
        "- Understand immutability\n",
        "- Use tuple unpacking"
      ]
    },
    {
      "cell_type": "code",
      "execution_count": 35,
      "id": "467cf803",
      "metadata": {
        "id": "467cf803",
        "outputId": "14ac9327-d200-47cf-fdb3-5d7ac400cd93",
        "colab": {
          "base_uri": "https://localhost:8080/"
        }
      },
      "outputs": [
        {
          "output_type": "stream",
          "name": "stdout",
          "text": [
            "(5, 10)\n"
          ]
        }
      ],
      "source": [
        "# 🔧 Create a Tuple\n",
        "coords = (5, 10)\n",
        "print(coords)"
      ]
    },
    {
      "cell_type": "code",
      "execution_count": 36,
      "id": "13b643c4",
      "metadata": {
        "id": "13b643c4",
        "outputId": "0564a04b-d408-433a-da1a-9b86e21e80e7",
        "colab": {
          "base_uri": "https://localhost:8080/"
        }
      },
      "outputs": [
        {
          "output_type": "stream",
          "name": "stdout",
          "text": [
            "X: 5\n",
            "Y: 10\n"
          ]
        }
      ],
      "source": [
        "# 🔍 Indexing\n",
        "print('X:', coords[0])\n",
        "print('Y:', coords[1])"
      ]
    },
    {
      "cell_type": "code",
      "execution_count": 37,
      "id": "2c780aea",
      "metadata": {
        "id": "2c780aea",
        "outputId": "9c3cbf01-07e9-4b94-8629-3a1487978bdb",
        "colab": {
          "base_uri": "https://localhost:8080/"
        }
      },
      "outputs": [
        {
          "output_type": "stream",
          "name": "stdout",
          "text": [
            "x + y = 15\n"
          ]
        }
      ],
      "source": [
        "# 🔁 Tuple Unpacking\n",
        "x, y = coords\n",
        "print('x + y =', x + y)"
      ]
    },
    {
      "cell_type": "markdown",
      "id": "3a71407c",
      "metadata": {
        "id": "3a71407c"
      },
      "source": [
        "## 🚫 Tuples are immutable\n",
        "Try uncommenting the line below to see what happens:\n",
        "```python\n",
        "coords[0] = 100\n",
        "```"
      ]
    },
    {
      "cell_type": "markdown",
      "id": "853762bc",
      "metadata": {
        "id": "853762bc"
      },
      "source": [
        "## ✏️ Your Turn\n",
        "Create a tuple to store your birthday as `(month, day, year)`."
      ]
    },
    {
      "cell_type": "code",
      "source": [
        "coords = (2, 22, 2005)\n",
        "print (coords)"
      ],
      "metadata": {
        "id": "CkOkdEEIlmiV",
        "outputId": "5d3a8478-90fd-4932-a6f0-8fa2f2d09253",
        "colab": {
          "base_uri": "https://localhost:8080/"
        }
      },
      "id": "CkOkdEEIlmiV",
      "execution_count": 38,
      "outputs": [
        {
          "output_type": "stream",
          "name": "stdout",
          "text": [
            "(2, 22, 2005)\n"
          ]
        }
      ]
    },
    {
      "cell_type": "code",
      "source": [
        "print('Month:', coords[0])\n",
        "print('Day:', coords[1])\n",
        "print('Year:', coords[2])"
      ],
      "metadata": {
        "id": "r5qWJp8lq1Ew",
        "outputId": "4e09a63b-c4a0-4560-8f21-af67a8587874",
        "colab": {
          "base_uri": "https://localhost:8080/"
        }
      },
      "id": "r5qWJp8lq1Ew",
      "execution_count": 39,
      "outputs": [
        {
          "output_type": "stream",
          "name": "stdout",
          "text": [
            "Month: 2\n",
            "Day: 22\n",
            "Year: 2005\n"
          ]
        }
      ]
    }
  ],
  "metadata": {
    "colab": {
      "provenance": []
    },
    "language_info": {
      "name": "python"
    },
    "kernelspec": {
      "name": "python3",
      "display_name": "Python 3"
    }
  },
  "nbformat": 4,
  "nbformat_minor": 5
}